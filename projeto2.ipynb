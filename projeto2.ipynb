{
 "cells": [
  {
   "cell_type": "code",
   "execution_count": 1,
   "metadata": {},
   "outputs": [],
   "source": [
    "import pyspark\n",
    "import math"
   ]
  },
  {
   "cell_type": "code",
   "execution_count": 2,
   "metadata": {},
   "outputs": [],
   "source": [
    "sc = pyspark.SparkContext(appName = 'hey mundo')"
   ]
  },
  {
   "cell_type": "code",
   "execution_count": 3,
   "metadata": {},
   "outputs": [
    {
     "data": {
      "text/html": [
       "\n",
       "        <div>\n",
       "            <p><b>SparkContext</b></p>\n",
       "\n",
       "            <p><a href=\"http://192.168.15.14:4040\">Spark UI</a></p>\n",
       "\n",
       "            <dl>\n",
       "              <dt>Version</dt>\n",
       "                <dd><code>v3.0.1</code></dd>\n",
       "              <dt>Master</dt>\n",
       "                <dd><code>local[*]</code></dd>\n",
       "              <dt>AppName</dt>\n",
       "                <dd><code>hey mundo</code></dd>\n",
       "            </dl>\n",
       "        </div>\n",
       "        "
      ],
      "text/plain": [
       "<SparkContext master=local[*] appName=hey mundo>"
      ]
     },
     "execution_count": 3,
     "metadata": {},
     "output_type": "execute_result"
    }
   ],
   "source": [
    "sc"
   ]
  },
  {
   "cell_type": "code",
   "execution_count": 4,
   "metadata": {},
   "outputs": [],
   "source": [
    "rdd = sc.sequenceFile('part-00000')"
   ]
  },
  {
   "cell_type": "code",
   "execution_count": 5,
   "metadata": {},
   "outputs": [],
   "source": [
    "result = rdd.take(10)"
   ]
  },
  {
   "cell_type": "code",
   "execution_count": 6,
   "metadata": {},
   "outputs": [
    {
     "data": {
      "text/plain": [
       "10"
      ]
     },
     "execution_count": 6,
     "metadata": {},
     "output_type": "execute_result"
    }
   ],
   "source": [
    "len(result)"
   ]
  },
  {
   "cell_type": "code",
   "execution_count": 7,
   "metadata": {},
   "outputs": [],
   "source": [
    "def conta_docs_ford_honda(item):\n",
    "    url, conteudo = item\n",
    "    palavras = conteudo.strip().split()\n",
    "    if 'ford' in palavras and 'honda' in palavras:\n",
    "        return [(palavra.lower(),1) for palavra in (palavras) if palavra.isalpha()]\n",
    "    else:\n",
    "        return []"
   ]
  },
  {
   "cell_type": "code",
   "execution_count": 8,
   "metadata": {},
   "outputs": [],
   "source": [
    "def conta_docs_ford(item):\n",
    "    url, conteudo = item\n",
    "    palavras = conteudo.strip().split()\n",
    "    if 'ford' in palavras and 'honda' not in palavras:\n",
    "        return [(palavra.lower(),1) for palavra in (palavras) if palavra.isalpha()]\n",
    "    else:\n",
    "        return []"
   ]
  },
  {
   "cell_type": "code",
   "execution_count": 9,
   "metadata": {},
   "outputs": [],
   "source": [
    "def conta_docs_honda(item):\n",
    "    url, conteudo = item\n",
    "    palavras = conteudo.strip().split()\n",
    "    if 'honda' in palavras and 'ford' not in palavras:\n",
    "        return [(palavra.lower(),1) for palavra in (palavras) if palavra.isalpha()]\n",
    "    else:\n",
    "        return []"
   ]
  },
  {
   "cell_type": "code",
   "execution_count": 10,
   "metadata": {},
   "outputs": [],
   "source": [
    "def conta_palavras(item):\n",
    "    url, conteudo = item\n",
    "    palavras = conteudo.strip().split()\n",
    "    return [(palavra.lower(),1) for palavra in palavras if palavra.isalpha() and palavra == 'honda' or palavra =='ford'] "
   ]
  },
  {
   "cell_type": "code",
   "execution_count": 11,
   "metadata": {},
   "outputs": [],
   "source": [
    "def junta_contagens(nova_contagem, contagem_atual):\n",
    "    return (nova_contagem + contagem_atual)"
   ]
  },
  {
   "cell_type": "code",
   "execution_count": 12,
   "metadata": {},
   "outputs": [],
   "source": [
    "rdd_doc_freq_ford_honda = rdd.flatMap(conta_docs_ford_honda).reduceByKey(junta_contagens)"
   ]
  },
  {
   "cell_type": "code",
   "execution_count": 13,
   "metadata": {},
   "outputs": [],
   "source": [
    "rdd_doc_freq_ford = rdd.flatMap(conta_docs_ford).reduceByKey(junta_contagens)"
   ]
  },
  {
   "cell_type": "code",
   "execution_count": 14,
   "metadata": {},
   "outputs": [],
   "source": [
    "rdd_doc_freq_honda = rdd.flatMap(conta_docs_honda).reduceByKey(junta_contagens)"
   ]
  },
  {
   "cell_type": "code",
   "execution_count": 15,
   "metadata": {},
   "outputs": [],
   "source": [
    "rdd_palavra_freq = rdd.flatMap(conta_palavras).reduceByKey(junta_contagens)"
   ]
  },
  {
   "cell_type": "code",
   "execution_count": 16,
   "metadata": {},
   "outputs": [
    {
     "data": {
      "text/plain": [
       "[('ford', 85), ('honda', 67)]"
      ]
     },
     "execution_count": 16,
     "metadata": {},
     "output_type": "execute_result"
    }
   ],
   "source": [
    "rdd_palavra_freq.take(10)"
   ]
  },
  {
   "cell_type": "code",
   "execution_count": 17,
   "metadata": {},
   "outputs": [
    {
     "data": {
      "text/plain": [
       "[('últimas', 16),\n",
       " ('das', 20),\n",
       " ('todas', 21),\n",
       " ('verificação', 1),\n",
       " ('possível', 3),\n",
       " ('no', 77),\n",
       " ('agosto', 17),\n",
       " ('março', 15),\n",
       " ('foi', 13),\n",
       " ('apontada', 1)]"
      ]
     },
     "execution_count": 17,
     "metadata": {},
     "output_type": "execute_result"
    }
   ],
   "source": [
    "rdd_doc_freq_ford_honda.take(10)"
   ]
  },
  {
   "cell_type": "code",
   "execution_count": 18,
   "metadata": {},
   "outputs": [
    {
     "data": {
      "text/plain": [
       "[('carpoint', 36),\n",
       " ('perfil', 12),\n",
       " ('nissan', 20),\n",
       " ('fernando', 13),\n",
       " ('julho', 86),\n",
       " ('mário', 6),\n",
       " ('agosto', 43),\n",
       " ('tem', 38),\n",
       " ('modelos', 6),\n",
       " ('no', 101)]"
      ]
     },
     "execution_count": 18,
     "metadata": {},
     "output_type": "execute_result"
    }
   ],
   "source": [
    "rdd_doc_freq_ford.take(10)"
   ]
  },
  {
   "cell_type": "code",
   "execution_count": 19,
   "metadata": {},
   "outputs": [
    {
     "data": {
      "text/plain": [
       "[('automóvel', 14),\n",
       " ('veicular', 9),\n",
       " ('no', 515),\n",
       " ('garantir', 6),\n",
       " ('saída', 5),\n",
       " ('peças', 35),\n",
       " ('diminuir', 1),\n",
       " ('precisa', 15),\n",
       " ('todas', 26),\n",
       " ('foi', 115)]"
      ]
     },
     "execution_count": 19,
     "metadata": {},
     "output_type": "execute_result"
    }
   ],
   "source": [
    "rdd_doc_freq_honda.take(10)"
   ]
  },
  {
   "cell_type": "code",
   "execution_count": 20,
   "metadata": {},
   "outputs": [
    {
     "data": {
      "text/plain": [
       "36133"
      ]
     },
     "execution_count": 20,
     "metadata": {},
     "output_type": "execute_result"
    }
   ],
   "source": [
    "rdd.count()"
   ]
  },
  {
   "cell_type": "code",
   "execution_count": 21,
   "metadata": {},
   "outputs": [
    {
     "data": {
      "text/plain": [
       "2"
      ]
     },
     "execution_count": 21,
     "metadata": {},
     "output_type": "execute_result"
    }
   ],
   "source": [
    "rdd_palavra_freq.count()"
   ]
  },
  {
   "cell_type": "code",
   "execution_count": 22,
   "metadata": {},
   "outputs": [
    {
     "data": {
      "text/plain": [
       "4208"
      ]
     },
     "execution_count": 22,
     "metadata": {},
     "output_type": "execute_result"
    }
   ],
   "source": [
    "rdd_doc_freq_ford_honda.count()"
   ]
  },
  {
   "cell_type": "code",
   "execution_count": 23,
   "metadata": {},
   "outputs": [
    {
     "data": {
      "text/plain": [
       "3123"
      ]
     },
     "execution_count": 23,
     "metadata": {},
     "output_type": "execute_result"
    }
   ],
   "source": [
    "rdd_doc_freq_ford.count()"
   ]
  },
  {
   "cell_type": "code",
   "execution_count": 24,
   "metadata": {},
   "outputs": [
    {
     "data": {
      "text/plain": [
       "6710"
      ]
     },
     "execution_count": 24,
     "metadata": {},
     "output_type": "execute_result"
    }
   ],
   "source": [
    "rdd_doc_freq_honda.count()"
   ]
  },
  {
   "cell_type": "code",
   "execution_count": 25,
   "metadata": {},
   "outputs": [
    {
     "data": {
      "text/plain": [
       "[('gasolina', 1834),\n",
       " ('serie', 1744),\n",
       " ('mecanico', 1491),\n",
       " ('automatico', 1092),\n",
       " ('de', 1040),\n",
       " ('trator', 786),\n",
       " ('pa', 651),\n",
       " ('e', 557),\n",
       " ('carregadeira', 456),\n",
       " ('turbo', 451)]"
      ]
     },
     "execution_count": 25,
     "metadata": {},
     "output_type": "execute_result"
    }
   ],
   "source": [
    "result_ford_honda = rdd_doc_freq_ford_honda.collect()\n",
    "sorted(result_ford_honda, key=lambda x : -x[1])[:10]"
   ]
  },
  {
   "cell_type": "code",
   "execution_count": 26,
   "metadata": {},
   "outputs": [
    {
     "data": {
      "text/plain": [
       "[('de', 780),\n",
       " ('do', 296),\n",
       " ('o', 281),\n",
       " ('e', 254),\n",
       " ('caminhão', 234),\n",
       " ('a', 220),\n",
       " ('cavalo', 184),\n",
       " ('mecânico', 179),\n",
       " ('que', 165),\n",
       " ('respostas', 139)]"
      ]
     },
     "execution_count": 26,
     "metadata": {},
     "output_type": "execute_result"
    }
   ],
   "source": [
    "result_ford = rdd_doc_freq_ford.collect()\n",
    "sorted(result_ford, key=lambda x : -x[1])[:10]"
   ]
  },
  {
   "cell_type": "code",
   "execution_count": 27,
   "metadata": {},
   "outputs": [
    {
     "data": {
      "text/plain": [
       "[('de', 3223),\n",
       " ('a', 1716),\n",
       " ('o', 1676),\n",
       " ('e', 1295),\n",
       " ('que', 1228),\n",
       " ('em', 931),\n",
       " ('do', 849),\n",
       " ('um', 738),\n",
       " ('é', 713),\n",
       " ('da', 682)]"
      ]
     },
     "execution_count": 27,
     "metadata": {},
     "output_type": "execute_result"
    }
   ],
   "source": [
    "result_honda = rdd_doc_freq_honda.collect()\n",
    "sorted(result_honda, key=lambda x : -x[1])[:10]"
   ]
  },
  {
   "cell_type": "code",
   "execution_count": 28,
   "metadata": {},
   "outputs": [],
   "source": [
    "N = rdd.count()"
   ]
  },
  {
   "cell_type": "code",
   "execution_count": 29,
   "metadata": {},
   "outputs": [],
   "source": [
    "DOC_COUNT_MIN = 5\n",
    "DOC_COUNT_MAX = 0.7*N\n",
    "def filtra_doc_freq(item):\n",
    "    contagem = item[1]\n",
    "    return (contagem < DOC_COUNT_MAX) & (contagem >= DOC_COUNT_MIN)\n",
    "\n",
    "rdd_palavra_freq_filter_filtrado = rdd_palavra_freq.filter(filtra_doc_freq)\n",
    "# rdd_doc_freq_filter_filtrado = rdd_doc_freq.filter(filtra_doc_freq)"
   ]
  },
  {
   "cell_type": "code",
   "execution_count": 30,
   "metadata": {},
   "outputs": [],
   "source": [
    "rdd_doc_freq_filter_filtrado_ford_honda = rdd_doc_freq_ford_honda.filter(filtra_doc_freq)"
   ]
  },
  {
   "cell_type": "code",
   "execution_count": 31,
   "metadata": {},
   "outputs": [],
   "source": [
    "rdd_doc_freq_filter_filtrado_ford = rdd_doc_freq_ford.filter(filtra_doc_freq)"
   ]
  },
  {
   "cell_type": "code",
   "execution_count": 32,
   "metadata": {},
   "outputs": [],
   "source": [
    "rdd_doc_freq_filter_filtrado_honda = rdd_doc_freq_honda.filter(filtra_doc_freq)"
   ]
  },
  {
   "cell_type": "code",
   "execution_count": 33,
   "metadata": {},
   "outputs": [
    {
     "data": {
      "text/plain": [
       "[('últimas', 16),\n",
       " ('das', 20),\n",
       " ('todas', 21),\n",
       " ('no', 77),\n",
       " ('agosto', 17),\n",
       " ('março', 15),\n",
       " ('foi', 13),\n",
       " ('outros', 6),\n",
       " ('nissan', 61),\n",
       " ('elétrica', 5)]"
      ]
     },
     "execution_count": 33,
     "metadata": {},
     "output_type": "execute_result"
    }
   ],
   "source": [
    "rdd_doc_freq_filter_filtrado_ford_honda.take(10)"
   ]
  },
  {
   "cell_type": "code",
   "execution_count": 34,
   "metadata": {},
   "outputs": [
    {
     "data": {
      "text/plain": [
       "[('carpoint', 36),\n",
       " ('perfil', 12),\n",
       " ('nissan', 20),\n",
       " ('fernando', 13),\n",
       " ('julho', 86),\n",
       " ('mário', 6),\n",
       " ('agosto', 43),\n",
       " ('tem', 38),\n",
       " ('modelos', 6),\n",
       " ('no', 101)]"
      ]
     },
     "execution_count": 34,
     "metadata": {},
     "output_type": "execute_result"
    }
   ],
   "source": [
    "rdd_doc_freq_filter_filtrado_ford.take(10)"
   ]
  },
  {
   "cell_type": "code",
   "execution_count": 35,
   "metadata": {},
   "outputs": [
    {
     "data": {
      "text/plain": [
       "[('automóvel', 14),\n",
       " ('veicular', 9),\n",
       " ('no', 515),\n",
       " ('garantir', 6),\n",
       " ('saída', 5),\n",
       " ('peças', 35),\n",
       " ('precisa', 15),\n",
       " ('todas', 26),\n",
       " ('foi', 115),\n",
       " ('boa', 62)]"
      ]
     },
     "execution_count": 35,
     "metadata": {},
     "output_type": "execute_result"
    }
   ],
   "source": [
    "rdd_doc_freq_filter_filtrado_honda.take(10)"
   ]
  },
  {
   "cell_type": "code",
   "execution_count": 36,
   "metadata": {},
   "outputs": [
    {
     "data": {
      "text/plain": [
       "4208"
      ]
     },
     "execution_count": 36,
     "metadata": {},
     "output_type": "execute_result"
    }
   ],
   "source": [
    "rdd_doc_freq_ford_honda.count()"
   ]
  },
  {
   "cell_type": "code",
   "execution_count": 37,
   "metadata": {},
   "outputs": [
    {
     "data": {
      "text/plain": [
       "3123"
      ]
     },
     "execution_count": 37,
     "metadata": {},
     "output_type": "execute_result"
    }
   ],
   "source": [
    "rdd_doc_freq_ford.count()"
   ]
  },
  {
   "cell_type": "code",
   "execution_count": 38,
   "metadata": {},
   "outputs": [
    {
     "data": {
      "text/plain": [
       "6710"
      ]
     },
     "execution_count": 38,
     "metadata": {},
     "output_type": "execute_result"
    }
   ],
   "source": [
    "rdd_doc_freq_honda.count()"
   ]
  },
  {
   "cell_type": "code",
   "execution_count": 39,
   "metadata": {},
   "outputs": [],
   "source": [
    "def computa_idf(item):\n",
    "    palavra,contagem = item\n",
    "    idf = math.log10(N/contagem)\n",
    "    return (palavra,idf)"
   ]
  },
  {
   "cell_type": "code",
   "execution_count": 40,
   "metadata": {},
   "outputs": [],
   "source": [
    "rdd_idf = rdd_palavra_freq_filter_filtrado.map(computa_idf)"
   ]
  },
  {
   "cell_type": "code",
   "execution_count": 41,
   "metadata": {},
   "outputs": [],
   "source": [
    "rdd_idf_doc_ford_honda = rdd_doc_freq_filter_filtrado_ford_honda.map(computa_idf)"
   ]
  },
  {
   "cell_type": "code",
   "execution_count": 42,
   "metadata": {},
   "outputs": [],
   "source": [
    "rdd_idf_doc_ford = rdd_doc_freq_filter_filtrado_ford.map(computa_idf)"
   ]
  },
  {
   "cell_type": "code",
   "execution_count": 43,
   "metadata": {},
   "outputs": [],
   "source": [
    "rdd_idf_doc_honda = rdd_doc_freq_filter_filtrado_honda.map(computa_idf)"
   ]
  },
  {
   "cell_type": "code",
   "execution_count": 44,
   "metadata": {},
   "outputs": [],
   "source": [
    "result_ford_honda = rdd_idf_doc_ford_honda.collect()"
   ]
  },
  {
   "cell_type": "code",
   "execution_count": 45,
   "metadata": {},
   "outputs": [],
   "source": [
    "result_ford = rdd_idf_doc_ford.collect()"
   ]
  },
  {
   "cell_type": "code",
   "execution_count": 46,
   "metadata": {},
   "outputs": [],
   "source": [
    "result_honda = rdd_idf_doc_honda.collect()"
   ]
  },
  {
   "cell_type": "code",
   "execution_count": 47,
   "metadata": {},
   "outputs": [
    {
     "data": {
      "text/plain": [
       "[('gerais', 3.8589340167215473),\n",
       " ('disco', 3.8589340167215473),\n",
       " ('arrizo', 3.8589340167215473),\n",
       " ('minha', 3.8589340167215473),\n",
       " ('cep', 3.8589340167215473),\n",
       " ('empresa', 3.8589340167215473),\n",
       " ('fluídos', 3.8589340167215473),\n",
       " ('edc', 3.8589340167215473),\n",
       " ('od', 3.8589340167215473),\n",
       " ('dakar', 3.8589340167215473),\n",
       " ('rd', 3.8589340167215473),\n",
       " ('twingo', 3.8589340167215473),\n",
       " ('wrangler', 3.8589340167215473),\n",
       " ('marchas', 3.8589340167215473),\n",
       " ('yaris', 3.8589340167215473)]"
      ]
     },
     "execution_count": 47,
     "metadata": {},
     "output_type": "execute_result"
    }
   ],
   "source": [
    "sorted(result_ford_honda, key= lambda x: x[1])[-15:]"
   ]
  },
  {
   "cell_type": "code",
   "execution_count": 48,
   "metadata": {},
   "outputs": [
    {
     "data": {
      "text/plain": [
       "[('design', 3.8589340167215473),\n",
       " ('sync', 3.8589340167215473),\n",
       " ('vitória', 3.8589340167215473),\n",
       " ('espaço', 3.8589340167215473),\n",
       " ('g', 3.8589340167215473),\n",
       " ('livre', 3.8589340167215473),\n",
       " ('ônix', 3.8589340167215473),\n",
       " ('ganha', 3.8589340167215473),\n",
       " ('sabe', 3.8589340167215473),\n",
       " ('enviar', 3.8589340167215473),\n",
       " ('with', 3.8589340167215473),\n",
       " ('pinheiros', 3.8589340167215473),\n",
       " ('yaris', 3.8589340167215473),\n",
       " ('branco', 3.8589340167215473),\n",
       " ('preto', 3.8589340167215473)]"
      ]
     },
     "execution_count": 48,
     "metadata": {},
     "output_type": "execute_result"
    }
   ],
   "source": [
    "sorted(result_ford, key= lambda x: x[1])[-15:]"
   ]
  },
  {
   "cell_type": "code",
   "execution_count": 49,
   "metadata": {},
   "outputs": [
    {
     "data": {
      "text/plain": [
       "[('infelizmente', 3.8589340167215473),\n",
       " ('levei', 3.8589340167215473),\n",
       " ('prefiro', 3.8589340167215473),\n",
       " ('oficial', 3.8589340167215473),\n",
       " ('josé', 3.8589340167215473),\n",
       " ('intervalo', 3.8589340167215473),\n",
       " ('fluence', 3.8589340167215473),\n",
       " ('certidão', 3.8589340167215473),\n",
       " ('militar', 3.8589340167215473),\n",
       " ('confundir', 3.8589340167215473),\n",
       " ('fatores', 3.8589340167215473),\n",
       " ('matéria', 3.8589340167215473),\n",
       " ('azera', 3.8589340167215473),\n",
       " ('considero', 3.8589340167215473),\n",
       " ('franco', 3.8589340167215473)]"
      ]
     },
     "execution_count": 49,
     "metadata": {},
     "output_type": "execute_result"
    }
   ],
   "source": [
    "sorted(result_honda, key= lambda x: x[1])[-15:]"
   ]
  },
  {
   "cell_type": "code",
   "execution_count": 50,
   "metadata": {},
   "outputs": [
    {
     "data": {
      "text/plain": [
       "10"
      ]
     },
     "execution_count": 50,
     "metadata": {},
     "output_type": "execute_result"
    }
   ],
   "source": [
    "len(result)"
   ]
  },
  {
   "cell_type": "code",
   "execution_count": 51,
   "metadata": {},
   "outputs": [
    {
     "data": {
      "text/plain": [
       "1160"
      ]
     },
     "execution_count": 51,
     "metadata": {},
     "output_type": "execute_result"
    }
   ],
   "source": [
    "len(result_ford_honda)"
   ]
  },
  {
   "cell_type": "code",
   "execution_count": 52,
   "metadata": {},
   "outputs": [
    {
     "data": {
      "text/plain": [
       "518"
      ]
     },
     "execution_count": 52,
     "metadata": {},
     "output_type": "execute_result"
    }
   ],
   "source": [
    "len(result_ford)"
   ]
  },
  {
   "cell_type": "code",
   "execution_count": 53,
   "metadata": {},
   "outputs": [
    {
     "data": {
      "text/plain": [
       "1360"
      ]
     },
     "execution_count": 53,
     "metadata": {},
     "output_type": "execute_result"
    }
   ],
   "source": [
    "len(result_honda)"
   ]
  },
  {
   "cell_type": "code",
   "execution_count": 54,
   "metadata": {},
   "outputs": [
    {
     "data": {
      "text/plain": [
       "list"
      ]
     },
     "execution_count": 54,
     "metadata": {},
     "output_type": "execute_result"
    }
   ],
   "source": [
    "type(result)"
   ]
  },
  {
   "cell_type": "code",
   "execution_count": 55,
   "metadata": {},
   "outputs": [],
   "source": [
    "def freq_normalized(item):\n",
    "    palavra,contagem = item\n",
    "    freq = math.log10(1 + contagem)\n",
    "    return(palavra,freq)\n",
    "    "
   ]
  },
  {
   "cell_type": "code",
   "execution_count": 56,
   "metadata": {},
   "outputs": [],
   "source": [
    "rdd_freq = rdd_palavra_freq_filter_filtrado.map(freq_normalized)"
   ]
  },
  {
   "cell_type": "code",
   "execution_count": 57,
   "metadata": {},
   "outputs": [],
   "source": [
    "rdd_freq_ford_honda = rdd_doc_freq_filter_filtrado_ford_honda.map(freq_normalized)"
   ]
  },
  {
   "cell_type": "code",
   "execution_count": 58,
   "metadata": {},
   "outputs": [],
   "source": [
    "rdd_freq_ford =rdd_doc_freq_filter_filtrado_ford.map(freq_normalized)"
   ]
  },
  {
   "cell_type": "code",
   "execution_count": 59,
   "metadata": {},
   "outputs": [],
   "source": [
    "rdd_freq_honda = rdd_doc_freq_filter_filtrado_honda.map(freq_normalized)"
   ]
  },
  {
   "cell_type": "code",
   "execution_count": 60,
   "metadata": {},
   "outputs": [
    {
     "data": {
      "text/plain": [
       "[('honda', 1.8325089127062364), ('ford', 1.9344984512435677)]"
      ]
     },
     "execution_count": 60,
     "metadata": {},
     "output_type": "execute_result"
    }
   ],
   "source": [
    "sorted(rdd_freq.collect(), key= lambda x: x[1])[-15:]"
   ]
  },
  {
   "cell_type": "code",
   "execution_count": 61,
   "metadata": {},
   "outputs": [
    {
     "data": {
      "text/plain": [
       "[('a', 2.432969290874406),\n",
       " ('escavadeira', 2.437750562820388),\n",
       " ('flex', 2.499687082618404),\n",
       " ('alcool', 2.534026106056135),\n",
       " ('diesel', 2.53655844257153),\n",
       " ('turbo', 2.655138434811382),\n",
       " ('carregadeira', 2.6599162000698504),\n",
       " ('e', 2.7466341989375787),\n",
       " ('pa', 2.81424759573192),\n",
       " ('trator', 2.8959747323590648),\n",
       " ('de', 3.017450729510536),\n",
       " ('automatico', 3.038620161949703),\n",
       " ('mecanico', 3.17376882313665),\n",
       " ('serie', 3.241795431295199),\n",
       " ('gasolina', 3.263636068588108)]"
      ]
     },
     "execution_count": 61,
     "metadata": {},
     "output_type": "execute_result"
    }
   ],
   "source": [
    "sorted(rdd_freq_ford_honda.collect(), key= lambda x: x[1])[-15:]"
   ]
  },
  {
   "cell_type": "code",
   "execution_count": 62,
   "metadata": {},
   "outputs": [
    {
     "data": {
      "text/plain": [
       "[('mais', 2.0681858617461617),\n",
       " ('janeiro', 2.0791812460476247),\n",
       " ('com', 2.089905111439398),\n",
       " ('é', 2.113943352306837),\n",
       " ('respostas', 2.146128035678238),\n",
       " ('responder', 2.146128035678238),\n",
       " ('que', 2.220108088040055),\n",
       " ('mecânico', 2.255272505103306),\n",
       " ('cavalo', 2.2671717284030137),\n",
       " ('a', 2.3443922736851106),\n",
       " ('caminhão', 2.3710678622717363),\n",
       " ('e', 2.406540180433955),\n",
       " ('o', 2.450249108319361),\n",
       " ('do', 2.4727564493172123),\n",
       " ('de', 2.8926510338773004)]"
      ]
     },
     "execution_count": 62,
     "metadata": {},
     "output_type": "execute_result"
    }
   ],
   "source": [
    "sorted(rdd_freq_ford.collect(), key= lambda x: x[1])[-15:]"
   ]
  },
  {
   "cell_type": "code",
   "execution_count": 63,
   "metadata": {},
   "outputs": [
    {
     "data": {
      "text/plain": [
       "[('se', 2.677606952720493),\n",
       " ('no', 2.7126497016272113),\n",
       " ('não', 2.798650645445269),\n",
       " ('para', 2.8048206787211623),\n",
       " ('com', 2.82865989653532),\n",
       " ('da', 2.8344207036815323),\n",
       " ('é', 2.8536982117761744),\n",
       " ('um', 2.8686444383948255),\n",
       " ('do', 2.929418925714293),\n",
       " ('em', 2.9694159123539814),\n",
       " ('que', 3.089551882886454),\n",
       " ('e', 3.1126050015345745),\n",
       " ('o', 3.2245330626060857),\n",
       " ('a', 3.2347702951609163),\n",
       " ('de', 3.508395033133053)]"
      ]
     },
     "execution_count": 63,
     "metadata": {},
     "output_type": "execute_result"
    }
   ],
   "source": [
    "sorted(rdd_freq_honda.collect(), key= lambda x: x[1])[-15:]"
   ]
  },
  {
   "cell_type": "code",
   "execution_count": null,
   "metadata": {},
   "outputs": [],
   "source": []
  },
  {
   "cell_type": "code",
   "execution_count": 64,
   "metadata": {},
   "outputs": [
    {
     "data": {
      "text/plain": [
       "[('ford', 5.084800346058365), ('honda', 5.006101390630037)]"
      ]
     },
     "execution_count": 64,
     "metadata": {},
     "output_type": "execute_result"
    }
   ],
   "source": [
    "rdd_freq \\\n",
    "    .join(rdd_idf)\\\n",
    "    .map(lambda x: (x[0],x[1][0]*x[1][1]))\\\n",
    "    .takeOrdered(10,key = lambda x: -x[1])"
   ]
  },
  {
   "cell_type": "code",
   "execution_count": 65,
   "metadata": {},
   "outputs": [
    {
     "data": {
      "text/plain": [
       "[('mi', 5.198862060391179),\n",
       " ('sport', 5.198844667090954),\n",
       " ('s', 5.198820199005647),\n",
       " ('do', 5.198818157235582),\n",
       " ('ford', 5.198735037154214),\n",
       " ('golf', 5.198193943457401),\n",
       " ('com', 5.197755914137743),\n",
       " ('chassis', 5.195985542011936),\n",
       " ('o', 5.193396077626297),\n",
       " ('volkswagen', 5.192507604494547)]"
      ]
     },
     "execution_count": 65,
     "metadata": {},
     "output_type": "execute_result"
    }
   ],
   "source": [
    "rdd_freq_ford_honda\\\n",
    "    .join(rdd_idf_doc_ford_honda)\\\n",
    "    .map(lambda x: (x[0],x[1][0]*x[1][1]))\\\n",
    "    .takeOrdered(10,key = lambda x: -x[1])"
   ]
  },
  {
   "cell_type": "code",
   "execution_count": 66,
   "metadata": {},
   "outputs": [
    {
     "data": {
      "text/plain": [
       "[('cavalo', 5.198820199005647),\n",
       " ('mecânico', 5.19851812078333),\n",
       " ('que', 5.195985542011936),\n",
       " ('a', 5.193957336541311),\n",
       " ('caminhão', 5.189528165358948),\n",
       " ('respostas', 5.182661459823505),\n",
       " ('responder', 5.182661459823505),\n",
       " ('e', 5.18145019892832),\n",
       " ('é', 5.173483818232933),\n",
       " ('o', 5.168059786518126)]"
      ]
     },
     "execution_count": 66,
     "metadata": {},
     "output_type": "execute_result"
    }
   ],
   "source": [
    "rdd_freq_ford\\\n",
    "    .join(rdd_idf_doc_ford)\\\n",
    "    .map(lambda x: (x[0],x[1][0]*x[1][1]))\\\n",
    "    .takeOrdered(10,key = lambda x: -x[1])"
   ]
  },
  {
   "cell_type": "code",
   "execution_count": 67,
   "metadata": {},
   "outputs": [
    {
     "data": {
      "text/plain": [
       "[('blindado', 5.198452700961411),\n",
       " ('como', 5.1984223655756105),\n",
       " ('sua', 5.197914927639032),\n",
       " ('tem', 5.197455761843707),\n",
       " ('ao', 5.197397770732923),\n",
       " ('ser', 5.19569831397644),\n",
       " ('outubro', 5.195077050530865),\n",
       " ('respostas', 5.194228378137632),\n",
       " ('são', 5.193237644545963),\n",
       " ('as', 5.193106042424439)]"
      ]
     },
     "execution_count": 67,
     "metadata": {},
     "output_type": "execute_result"
    }
   ],
   "source": [
    "rdd_freq_honda\\\n",
    "    .join(rdd_idf_doc_honda)\\\n",
    "    .map(lambda x: (x[0],x[1][0]*x[1][1]))\\\n",
    "    .takeOrdered(10,key = lambda x: -x[1])"
   ]
  },
  {
   "cell_type": "markdown",
   "metadata": {},
   "source": [
    "### TO DO\n",
    "Ver pq o filtro nao fununcia  \n",
    "passar pro zepelin\n",
    "\n"
   ]
  },
  {
   "cell_type": "code",
   "execution_count": null,
   "metadata": {},
   "outputs": [],
   "source": []
  }
 ],
 "metadata": {
  "kernelspec": {
   "display_name": "Python 3",
   "language": "python",
   "name": "python3"
  },
  "language_info": {
   "codemirror_mode": {
    "name": "ipython",
    "version": 3
   },
   "file_extension": ".py",
   "mimetype": "text/x-python",
   "name": "python",
   "nbconvert_exporter": "python",
   "pygments_lexer": "ipython3",
   "version": "3.8.6"
  }
 },
 "nbformat": 4,
 "nbformat_minor": 4
}
